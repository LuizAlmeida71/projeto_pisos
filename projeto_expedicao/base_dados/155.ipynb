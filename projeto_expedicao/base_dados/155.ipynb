{
 "cells": [
  {
   "cell_type": "code",
   "execution_count": 1,
   "id": "d2fa2164",
   "metadata": {},
   "outputs": [
    {
     "data": {
      "text/html": [
       "\n",
       "            <div>\n",
       "                <ins><a href=\"https://ydata.ai/register\">Upgrade to ydata-sdk</a></ins>\n",
       "                <p>\n",
       "                    Improve your data and profiling with ydata-sdk, featuring data quality scoring, redundancy detection, outlier identification, text validation, and synthetic data generation.\n",
       "                </p>\n",
       "            </div>\n",
       "            "
      ],
      "text/plain": [
       "<IPython.core.display.HTML object>"
      ]
     },
     "metadata": {},
     "output_type": "display_data"
    }
   ],
   "source": [
    "# 0. Importar pacotes \n",
    "\n",
    "import pandas as pd\n",
    "import numpy as np\n",
    "import datetime as dt\n",
    "import re\n",
    "from ydata_profiling import ProfileReport"
   ]
  },
  {
   "cell_type": "code",
   "execution_count": 10,
   "id": "fb205901",
   "metadata": {},
   "outputs": [],
   "source": [
    "# 1. Importar base de dados  \n",
    "\n",
    "base_155 = pd.read_excel(r'155_290825.XLSX')"
   ]
  },
  {
   "cell_type": "code",
   "execution_count": 11,
   "id": "98b2470c",
   "metadata": {},
   "outputs": [
    {
     "name": "stderr",
     "output_type": "stream",
     "text": [
      "C:\\Users\\lsaju\\AppData\\Local\\Temp\\ipykernel_32072\\866468498.py:2: UserWarning: Could not infer format, so each element will be parsed individually, falling back to `dateutil`. To ensure parsing is consistent and as-expected, please specify a format.\n",
      "  base_155['produto_retirar_dtpreventrega'] = pd.to_datetime(base_155['produto_retirar_dtpreventrega'], errors='coerce')\n"
     ]
    }
   ],
   "source": [
    "# 1.1. Corrigindo tipo de campo e criando campo data_saida \n",
    "base_155['produto_retirar_dtpreventrega'] = pd.to_datetime(base_155['produto_retirar_dtpreventrega'], errors='coerce')\n",
    "base_155['data_saida'] = base_155['produto_retirar_dtpreventrega'].dt.date "
   ]
  },
  {
   "cell_type": "code",
   "execution_count": 12,
   "id": "3bcd12dc",
   "metadata": {},
   "outputs": [],
   "source": [
    "# 1.2. Criando campo dias_espera\n",
    "#base_155_p2 = base_155[base_155['produto_retirar_idlocalretirada']==2].copy()\n",
    "base_155_p2 = base_155.copy()\n",
    "base_155_p2['dias_espera'] = pd.to_datetime(base_155_p2['data_saida'])\n",
    "base_155_p2['data_saida']= pd.to_datetime(base_155_p2['data_saida'])\n",
    "base_155_p2['produto_retirar_dtmovimento'] = pd.to_datetime(base_155_p2['produto_retirar_dtmovimento'])\n",
    "base_155_p2['dias_espera'] = (base_155_p2['data_saida'] - base_155_p2['produto_retirar_dtmovimento']).dt.days\n",
    "#base_155_p2.dtypes"
   ]
  },
  {
   "cell_type": "code",
   "execution_count": null,
   "id": "fc7b4f54",
   "metadata": {},
   "outputs": [],
   "source": [
    "reportp2 = ProfileReport(base_155_p2, title='Base P2')\n",
    "reportp2.to_notebook_iframe()"
   ]
  },
  {
   "cell_type": "code",
   "execution_count": 13,
   "id": "267ac01d",
   "metadata": {},
   "outputs": [],
   "source": [
    "# 1.3. Descrição dos dados\n",
    "#base_155_p2.describe()"
   ]
  },
  {
   "cell_type": "code",
   "execution_count": 19,
   "id": "3706b913",
   "metadata": {},
   "outputs": [
    {
     "name": "stdout",
     "output_type": "stream",
     "text": [
      "\n",
      "✅ RESULTADO DA EXTRAÇÃO:\n",
      "================================================================================\n"
     ]
    },
    {
     "data": {
      "text/plain": [
       "['produto_retirar_dtmovimento',\n",
       " 'produto_retirar_idlocalretirada',\n",
       " 'produto_retirar_dtpreventrega',\n",
       " 'local_retirada_descrlocalretirada',\n",
       " 'produtos_view_idsubproduto',\n",
       " 'produtos_view_descricaoproduto',\n",
       " 'Quantidade Produto',\n",
       " 'Número Nota',\n",
       " 'Série Nota',\n",
       " 'cliente_fornecedor_idclifor',\n",
       " 'cliente_fornecedor_nome',\n",
       " 'estoque_analitico_idvendedor',\n",
       " 'cliente_fornecedor_nomevendedor',\n",
       " 'data_saida',\n",
       " 'dias_espera',\n",
       " 'primeiro_nome']"
      ]
     },
     "execution_count": 19,
     "metadata": {},
     "output_type": "execute_result"
    }
   ],
   "source": [
    "# 1.4. Criação do campo do nome do vendedor\n",
    "def extrair_primeiro_nome(texto):\n",
    "    \"\"\"\n",
    "    Extrai apenas o PRIMEIRO nome, tratando diferentes padrões:\n",
    "    - Nomes antes de números\n",
    "    - Números antes de nomes  \n",
    "    - Números colados com nomes\n",
    "    - Múltiplos nomes\n",
    "    \"\"\"\n",
    "    if pd.isna(texto) or texto.strip() == '':\n",
    "        return ''\n",
    "    \n",
    "    texto = str(texto).strip()\n",
    "    \n",
    "    # Etapa 1: Remove caracteres especiais comuns em telefones\n",
    "    # Mantém letras, espaços e números, remove (), -, etc.\n",
    "    texto_limpo = re.sub(r'[^\\w\\s]', ' ', texto)\n",
    "    texto_limpo = re.sub(r'\\s+', ' ', texto_limpo).strip()\n",
    "    \n",
    "    # Etapa 2: Identifica todas as palavras que são apenas letras (nomes)\n",
    "    palavras = texto_limpo.split()\n",
    "    nomes_puros = []\n",
    "    \n",
    "    for palavra in palavras:\n",
    "        # Se a palavra contém apenas letras (é um nome)\n",
    "        if palavra.isalpha() and len(palavra) > 1:  # Ignora letras soltas\n",
    "            nomes_puros.append(palavra)\n",
    "    \n",
    "    # Etapa 3: Se encontrou nomes, retorna apenas o primeiro\n",
    "    if nomes_puros:\n",
    "        return nomes_puros[0].upper()\n",
    "    \n",
    "    # Etapa 4: Se não encontrou nomes puros, tenta extrair de texto colado\n",
    "    # Procura sequência de letras no início ou após números\n",
    "    matches = re.findall(r'[A-Za-z]{2,}', texto)\n",
    "    if matches:\n",
    "        return matches[0].upper()\n",
    "    \n",
    "    # Se nada funcionou, retorna vazio\n",
    "    return ''\n",
    "\n",
    "# Aplica a função\n",
    "base_155_p2['primeiro_nome'] = base_155_p2['cliente_fornecedor_nomevendedor'].apply(extrair_primeiro_nome)\n",
    "\n",
    "print(\"\\n✅ RESULTADO DA EXTRAÇÃO:\")\n",
    "print(\"=\" * 80)\n",
    "resultado = base_155_p2[['cliente_fornecedor_nomevendedor', 'primeiro_nome']].copy()\n",
    "resultado.index = range(1, len(resultado) + 1)\n",
    "#print(resultado.to_string())\n",
    "base_155_p2.columns.tolist()\n"
   ]
  },
  {
   "cell_type": "code",
   "execution_count": 18,
   "id": "6b7f6325",
   "metadata": {},
   "outputs": [
    {
     "data": {
      "text/plain": [
       "['dtmovimento',\n",
       " 'idlocalretirada',\n",
       " 'dtpreventrega',\n",
       " 'descrlocalretirada',\n",
       " 'idsubproduto',\n",
       " 'descricaoproduto',\n",
       " 'qtde_produto',\n",
       " 'Número Nota',\n",
       " 'serie_nota',\n",
       " 'idclifor',\n",
       " 'fornecedor_nome',\n",
       " 'idvendedor',\n",
       " 'nomevendedor',\n",
       " 'data_saida',\n",
       " 'dias_espera',\n",
       " 'primeiro_nome']"
      ]
     },
     "execution_count": 18,
     "metadata": {},
     "output_type": "execute_result"
    }
   ],
   "source": [
    "# 1.5. Renomear nome das variáveis\n",
    "base_155_semi = base_155_p2.copy()\n",
    "base_155_semi.rename(columns={\n",
    "    'produto_retirar_dtmovimento':'dtmovimento',\n",
    "    'produto_retirar_idlocalretirada':'idlocalretirada',\n",
    "    'produto_retirar_dtpreventrega':'dtpreventrega',\n",
    "    'local_retirada_descrlocalretirada':'descrlocalretirada',\n",
    "    'produtos_view_idsubproduto':'idsubproduto',\n",
    "    'produtos_view_descricaoproduto':'descricaoproduto',\n",
    "    'Quantidade Produto':'qtde_produto',\n",
    "    'Numero Nota':'num_nota',\n",
    "    'Série Nota':'serie_nota',\n",
    "    'cliente_fornecedor_idclifor':'idclifor',\n",
    "    'cliente_fornecedor_nome':'fornecedor_nome',\n",
    "    'estoque_analitico_idvendedor':'idvendedor',\n",
    "    'cliente_fornecedor_nomevendedor':'nomevendedor'\n",
    "    },\n",
    "    inplace=True)\n",
    "\n",
    "base_155_semi.columns.tolist()"
   ]
  },
  {
   "cell_type": "code",
   "execution_count": 17,
   "id": "b78149d6",
   "metadata": {},
   "outputs": [],
   "source": [
    "# 2. Criar base de dados para exportação\n",
    "\n",
    "base_155_semi.to_excel('base_155.xlsx')"
   ]
  },
  {
   "cell_type": "code",
   "execution_count": null,
   "id": "3c9df0b8",
   "metadata": {},
   "outputs": [],
   "source": []
  },
  {
   "cell_type": "code",
   "execution_count": null,
   "id": "1ece32eb",
   "metadata": {},
   "outputs": [],
   "source": []
  },
  {
   "cell_type": "code",
   "execution_count": null,
   "id": "b5b97f5d",
   "metadata": {},
   "outputs": [],
   "source": []
  },
  {
   "cell_type": "code",
   "execution_count": null,
   "id": "1dae338f",
   "metadata": {},
   "outputs": [],
   "source": []
  },
  {
   "cell_type": "code",
   "execution_count": null,
   "id": "bd991e6a",
   "metadata": {},
   "outputs": [],
   "source": []
  },
  {
   "cell_type": "code",
   "execution_count": null,
   "id": "77f9fe72",
   "metadata": {},
   "outputs": [],
   "source": []
  }
 ],
 "metadata": {
  "kernelspec": {
   "display_name": "pisos",
   "language": "python",
   "name": "python3"
  },
  "language_info": {
   "codemirror_mode": {
    "name": "ipython",
    "version": 3
   },
   "file_extension": ".py",
   "mimetype": "text/x-python",
   "name": "python",
   "nbconvert_exporter": "python",
   "pygments_lexer": "ipython3",
   "version": "3.12.3"
  }
 },
 "nbformat": 4,
 "nbformat_minor": 5
}
